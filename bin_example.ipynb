{
 "cells": [
  {
   "cell_type": "markdown",
   "id": "4588338b-3785-4616-88b1-e35e168e7bad",
   "metadata": {},
   "source": [
    "<div style=\"float:left;\"><h1>Binomial distribution example</h1></div>"
   ]
  },
  {
   "cell_type": "markdown",
   "id": "ae4935a4-ed73-493d-8a4e-46c778eee967",
   "metadata": {},
   "source": [
    "In this example we create a binomial random variable by summing the values of indicator random variables."
   ]
  },
  {
   "cell_type": "markdown",
   "id": "78efca0e-4cab-4f21-8568-37f10c2b02ce",
   "metadata": {},
   "source": [
    "The output of the following function is a value of an indicator random variable with rational parameter $p=\\dfrac{k}{m}$."
   ]
  },
  {
   "cell_type": "code",
   "execution_count": null,
   "id": "7de0f93a-9d03-4c6e-b7b3-a11159ddb559",
   "metadata": {},
   "outputs": [],
   "source": [
    "import random\n",
    "\n",
    "def  ind_func(k,m):\n",
    "  return int(random.randint(1, m) <= k)"
   ]
  },
  {
   "cell_type": "markdown",
   "id": "e7803da2-a9de-4a27-8c8a-6ac9e23379cf",
   "metadata": {
    "tags": []
   },
   "source": [
    "The sum of n indicator random variables with parameter $p$ gives a binomial random variable with parameters $p$ and $n$."
   ]
  },
  {
   "cell_type": "code",
   "execution_count": null,
   "id": "6311895c-038a-4582-9ef3-0aef56a3c029",
   "metadata": {
    "tags": []
   },
   "outputs": [],
   "source": [
    "def bin_func(p_num,p_denom,n):\n",
    "  val = 0\n",
    "  for i in range(n):\n",
    "    val += ind_func(p_num,p_denom)\n",
    "  return val"
   ]
  },
  {
   "cell_type": "markdown",
   "id": "71962f11-92f1-49e8-9a7c-ad1e5f4ba8bb",
   "metadata": {},
   "source": [
    "Let us generate a sample containing $\\texttt{NSAPMLE}$ many elements by evaluating identically distributed binomial variables independently. The parameters of the binomial distribution are $p=\\dfrac{\\texttt{pnum}}{\\texttt{pdenom}}$ and $\\texttt{n}$."
   ]
  },
  {
   "cell_type": "code",
   "execution_count": null,
   "id": "55148e49-6b69-4e37-b479-45f127f2a6fd",
   "metadata": {
    "tags": []
   },
   "outputs": [],
   "source": [
    "NSAMPLE = 1000\n",
    "pnum = 1\n",
    "pdenom = 2\n",
    "n = 50\n",
    " \n",
    "sample = list()\n",
    "for i in range(NSAMPLE):\n",
    "  sample.append(bin_func(pnum,pdenom,n))"
   ]
  },
  {
   "cell_type": "markdown",
   "id": "426ad21c-e43a-404d-8583-83585e51c8f9",
   "metadata": {},
   "source": [
    "These are the values of our sample:"
   ]
  },
  {
   "cell_type": "code",
   "execution_count": null,
   "id": "53c72167-90a9-47bc-8e97-9d266a8ae078",
   "metadata": {},
   "outputs": [],
   "source": [
    "print(sample)"
   ]
  },
  {
   "cell_type": "markdown",
   "id": "2926df6b-7353-4c83-bd51-67eb688d017f",
   "metadata": {},
   "source": [
    "We count how many times each value occurs in our sample. The range of the binomial variable consists of the integers in the closed interval $[0;n]$. We count the occurrence of each value in the list $\\texttt{valocc}$."
   ]
  },
  {
   "cell_type": "code",
   "execution_count": null,
   "id": "5ab33332-72f0-412f-bf01-695d25875d82",
   "metadata": {},
   "outputs": [],
   "source": [
    "valocc = list()\n",
    "for i in range(n+1):\n",
    "    valocc.append(0)\n",
    "for s in sample:\n",
    "  valocc[s] += 1;\n",
    "print(valocc)"
   ]
  },
  {
   "cell_type": "markdown",
   "id": "c06915dd-62c7-4f1d-a88e-22a59f29e255",
   "metadata": {},
   "source": [
    "Let us plot the number of occurrences."
   ]
  },
  {
   "cell_type": "code",
   "execution_count": null,
   "id": "ba791fc9-767e-4f5b-ba9c-aa9e73b8bd3d",
   "metadata": {
    "tags": []
   },
   "outputs": [],
   "source": [
    "import matplotlib.pyplot as plt\n",
    "\n",
    "names = list()\n",
    "for i in range(n+1):\n",
    "    names.append(str(i))\n",
    "\n",
    "plt.figure(figsize=(25, 6))\n",
    "    \n",
    "plt.bar(names, valocc)\n",
    "plt.show()"
   ]
  },
  {
   "cell_type": "markdown",
   "id": "3deb0257-1104-432b-9931-8e2d5da1caa3",
   "metadata": {},
   "source": [
    "Instead of the number of occurrences we can consider the relative frequencies and compare them to the actual probabilities of the corresponding values."
   ]
  },
  {
   "cell_type": "code",
   "execution_count": null,
   "id": "f1428dc1-4ffe-4369-82d4-c6b02c19b463",
   "metadata": {},
   "outputs": [],
   "source": [
    "relfreq = list()\n",
    "for e in valocc:\n",
    "    relfreq.append(float(e)/float(NSAMPLE))\n",
    "\n",
    "plt.figure(figsize=(25, 6))\n",
    "plt.bar(names, relfreq)\n",
    "plt.show()\n",
    "\n",
    "import math\n",
    "probs = list()\n",
    "p = float(pnum)/float(pdenom)\n",
    "prob_factor = (1-p)**n\n",
    "for i in range(n+1):\n",
    "    probs.append(math.comb(n,i)*prob_factor)\n",
    "    prob_factor *= p/(1-p)\n",
    "\n",
    "plt.figure(figsize=(25, 6))\n",
    "plt.bar(names, probs)\n",
    "plt.show()"
   ]
  }
 ],
 "metadata": {
  "kernelspec": {
   "display_name": "anaconda-2022.05-py39",
   "language": "python",
   "name": "conda-env-anaconda-2022.05-py39-py"
  },
  "language_info": {
   "codemirror_mode": {
    "name": "ipython",
    "version": 3
   },
   "file_extension": ".py",
   "mimetype": "text/x-python",
   "name": "python",
   "nbconvert_exporter": "python",
   "pygments_lexer": "ipython3",
   "version": "3.9.12"
  }
 },
 "nbformat": 4,
 "nbformat_minor": 5
}
